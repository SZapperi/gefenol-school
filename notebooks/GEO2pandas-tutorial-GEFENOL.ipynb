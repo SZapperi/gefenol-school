{
 "cells": [
  {
   "cell_type": "markdown",
   "metadata": {},
   "source": [
    "# Getting data from the Gene Expression Omnibus"
   ]
  },
  {
   "cell_type": "markdown",
   "metadata": {},
   "source": [
    "We have already searched online using [ArrayExpress](https://www.ebi.ac.uk/arrayexpress/) web interface and decided that we want to download certain experiment. To download the data, all we need is the accession number (eg `GSE12345`) and the `GEO2pandas` module. Since `GEO2pandas` is (still) not available throught `pip`, we need to do as follows:"
   ]
  },
  {
   "cell_type": "code",
   "execution_count": 1,
   "metadata": {},
   "outputs": [],
   "source": [
    "import sys\n",
    "sys.path.append(\"../\") # this points to where the GEO2pandas code is in my computer\n",
    "import GEO2pandas"
   ]
  },
  {
   "cell_type": "markdown",
   "metadata": {},
   "source": [
    "In addition, we import some standard modules"
   ]
  },
  {
   "cell_type": "code",
   "execution_count": 2,
   "metadata": {},
   "outputs": [],
   "source": [
    "import numpy as np\n",
    "import pandas as pd\n",
    "import matplotlib.pyplot as plt\n",
    "%matplotlib inline\n",
    "import seaborn as sns\n",
    "from sklearn.decomposition import PCA"
   ]
  },
  {
   "cell_type": "markdown",
   "metadata": {},
   "source": [
    "### Download the data"
   ]
  },
  {
   "cell_type": "code",
   "execution_count": 3,
   "metadata": {},
   "outputs": [
    {
     "name": "stderr",
     "output_type": "stream",
     "text": [
      "11-Jul-2023 13:51:29 DEBUG utils - Directory ./ already exists. Skipping.\n",
      "11-Jul-2023 13:51:29 INFO GEOparse - Downloading ftp://ftp.ncbi.nlm.nih.gov/geo/series/GSE64nnn/GSE64567/soft/GSE64567_family.soft.gz to ./GSE64567_family.soft.gz\n",
      "100%|██████████| 28.2M/28.2M [00:02<00:00, 13.9MB/s]\n",
      "11-Jul-2023 13:51:33 DEBUG downloader - Size validation passed\n",
      "11-Jul-2023 13:51:33 DEBUG downloader - Moving /var/folders/jy/mpqy4_yn7k50zgjy8wz8th6r0000gp/T/tmpt9ddgkmb to /Users/szapperi/CloudStation/geopandas-tutorial/notebooks/GSE64567_family.soft.gz\n",
      "11-Jul-2023 13:51:33 DEBUG downloader - Successfully downloaded ftp://ftp.ncbi.nlm.nih.gov/geo/series/GSE64nnn/GSE64567/soft/GSE64567_family.soft.gz\n",
      "11-Jul-2023 13:51:33 INFO GEOparse - Parsing ./GSE64567_family.soft.gz: \n",
      "11-Jul-2023 13:51:33 DEBUG GEOparse - DATABASE: GeoMiame\n",
      "11-Jul-2023 13:51:33 DEBUG GEOparse - SERIES: GSE64567\n",
      "11-Jul-2023 13:51:33 DEBUG GEOparse - PLATFORM: GPL10558\n",
      "11-Jul-2023 13:51:35 DEBUG GEOparse - SAMPLE: GSM1574423\n",
      "11-Jul-2023 13:51:35 DEBUG GEOparse - SAMPLE: GSM1574424\n",
      "11-Jul-2023 13:51:35 DEBUG GEOparse - SAMPLE: GSM1574425\n",
      "11-Jul-2023 13:51:35 DEBUG GEOparse - SAMPLE: GSM1574426\n",
      "11-Jul-2023 13:51:35 DEBUG GEOparse - SAMPLE: GSM1574427\n",
      "11-Jul-2023 13:51:35 DEBUG GEOparse - SAMPLE: GSM1574428\n",
      "11-Jul-2023 13:51:35 DEBUG GEOparse - SAMPLE: GSM1574429\n",
      "11-Jul-2023 13:51:35 DEBUG GEOparse - SAMPLE: GSM1574430\n",
      "11-Jul-2023 13:51:35 DEBUG GEOparse - SAMPLE: GSM1574431\n",
      "11-Jul-2023 13:51:35 DEBUG GEOparse - SAMPLE: GSM1574432\n",
      "11-Jul-2023 13:51:36 DEBUG GEOparse - SAMPLE: GSM1574433\n",
      "11-Jul-2023 13:51:36 DEBUG GEOparse - SAMPLE: GSM1574434\n",
      "11-Jul-2023 13:51:36 DEBUG GEOparse - SAMPLE: GSM1574435\n",
      "11-Jul-2023 13:51:36 DEBUG GEOparse - SAMPLE: GSM1574436\n",
      "11-Jul-2023 13:51:36 DEBUG GEOparse - SAMPLE: GSM1574437\n",
      "11-Jul-2023 13:51:36 DEBUG GEOparse - SAMPLE: GSM1574438\n",
      "11-Jul-2023 13:51:36 DEBUG GEOparse - SAMPLE: GSM1574439\n",
      "11-Jul-2023 13:51:36 DEBUG GEOparse - SAMPLE: GSM1574440\n",
      "11-Jul-2023 13:51:36 DEBUG GEOparse - SAMPLE: GSM1574441\n",
      "11-Jul-2023 13:51:36 DEBUG GEOparse - SAMPLE: GSM1574442\n",
      "11-Jul-2023 13:51:36 DEBUG GEOparse - SAMPLE: GSM1574443\n",
      "11-Jul-2023 13:51:36 DEBUG GEOparse - SAMPLE: GSM1574444\n",
      "11-Jul-2023 13:51:36 DEBUG GEOparse - SAMPLE: GSM1574445\n",
      "11-Jul-2023 13:51:36 DEBUG GEOparse - SAMPLE: GSM1574446\n",
      "11-Jul-2023 13:51:37 DEBUG GEOparse - SAMPLE: GSM1574447\n",
      "11-Jul-2023 13:51:37 DEBUG GEOparse - SAMPLE: GSM1574448\n",
      "11-Jul-2023 13:51:37 DEBUG GEOparse - SAMPLE: GSM1574449\n",
      "11-Jul-2023 13:51:37 DEBUG GEOparse - SAMPLE: GSM1574450\n",
      "11-Jul-2023 13:51:37 DEBUG GEOparse - SAMPLE: GSM1574451\n",
      "11-Jul-2023 13:51:37 DEBUG GEOparse - SAMPLE: GSM1574452\n",
      "11-Jul-2023 13:51:37 DEBUG GEOparse - SAMPLE: GSM1574453\n",
      "11-Jul-2023 13:51:37 DEBUG GEOparse - SAMPLE: GSM1574454\n",
      "11-Jul-2023 13:51:37 DEBUG GEOparse - SAMPLE: GSM1574455\n",
      "11-Jul-2023 13:51:37 DEBUG GEOparse - SAMPLE: GSM1574456\n",
      "11-Jul-2023 13:51:37 DEBUG GEOparse - SAMPLE: GSM1574457\n",
      "11-Jul-2023 13:51:37 DEBUG GEOparse - SAMPLE: GSM1574458\n",
      "11-Jul-2023 13:51:37 DEBUG GEOparse - SAMPLE: GSM1574459\n",
      "11-Jul-2023 13:51:37 DEBUG GEOparse - SAMPLE: GSM1574460\n",
      "11-Jul-2023 13:51:37 DEBUG GEOparse - SAMPLE: GSM1574461\n",
      "11-Jul-2023 13:51:38 DEBUG GEOparse - SAMPLE: GSM1574462\n",
      "11-Jul-2023 13:51:38 DEBUG GEOparse - SAMPLE: GSM1574463\n",
      "11-Jul-2023 13:51:38 DEBUG GEOparse - SAMPLE: GSM1574464\n",
      "11-Jul-2023 13:51:38 DEBUG GEOparse - SAMPLE: GSM1574465\n",
      "11-Jul-2023 13:51:38 DEBUG GEOparse - SAMPLE: GSM1574466\n",
      "11-Jul-2023 13:51:38 DEBUG GEOparse - SAMPLE: GSM1574467\n",
      "11-Jul-2023 13:51:38 DEBUG GEOparse - SAMPLE: GSM1574468\n",
      "11-Jul-2023 13:51:38 DEBUG GEOparse - SAMPLE: GSM1574469\n",
      "11-Jul-2023 13:51:38 DEBUG GEOparse - SAMPLE: GSM1574470\n",
      "11-Jul-2023 13:51:38 DEBUG GEOparse - SAMPLE: GSM1574471\n",
      "11-Jul-2023 13:51:38 DEBUG GEOparse - SAMPLE: GSM1574472\n",
      "11-Jul-2023 13:51:38 DEBUG GEOparse - SAMPLE: GSM1574473\n",
      "11-Jul-2023 13:51:38 DEBUG GEOparse - SAMPLE: GSM1574474\n",
      "11-Jul-2023 13:51:38 DEBUG GEOparse - SAMPLE: GSM1574475\n",
      "11-Jul-2023 13:51:39 DEBUG GEOparse - SAMPLE: GSM1574476\n",
      "11-Jul-2023 13:51:39 DEBUG GEOparse - SAMPLE: GSM1574477\n",
      "11-Jul-2023 13:51:39 DEBUG GEOparse - SAMPLE: GSM1574478\n",
      "11-Jul-2023 13:51:39 DEBUG GEOparse - SAMPLE: GSM1574479\n",
      "11-Jul-2023 13:51:39 DEBUG GEOparse - SAMPLE: GSM1574480\n",
      "11-Jul-2023 13:51:39 DEBUG GEOparse - SAMPLE: GSM1574481\n",
      "11-Jul-2023 13:51:39 DEBUG GEOparse - SAMPLE: GSM1574482\n",
      "11-Jul-2023 13:51:39 DEBUG GEOparse - SAMPLE: GSM1574483\n",
      "11-Jul-2023 13:51:39 DEBUG GEOparse - SAMPLE: GSM1574484\n",
      "11-Jul-2023 13:51:39 DEBUG GEOparse - SAMPLE: GSM1574485\n",
      "11-Jul-2023 13:51:39 DEBUG GEOparse - SAMPLE: GSM1574486\n"
     ]
    }
   ],
   "source": [
    "gse = GEO2pandas.get_gse(\"GSE64567\")"
   ]
  },
  {
   "cell_type": "markdown",
   "metadata": {},
   "source": [
    "### Get the metadata\n",
    "To get the metadata, we use the `get_meta_from_gse` function. It will return a `pandas.DataFrame` object, which is like an 2-D array, but with **named** rows and columns"
   ]
  },
  {
   "cell_type": "code",
   "execution_count": 5,
   "metadata": {},
   "outputs": [],
   "source": [
    "meta = GEO2pandas.get_meta_from_gse(gse)"
   ]
  },
  {
   "cell_type": "markdown",
   "metadata": {},
   "source": [
    "Using the `.head()` method, we see the first rows of `meta`. Each row represents a sample, and each column a variable. This dataset is nice because it has lots of metadata, but that is not always the case. "
   ]
  },
  {
   "cell_type": "code",
   "execution_count": 6,
   "metadata": {},
   "outputs": [
    {
     "data": {
      "text/html": [
       "<div>\n",
       "<style scoped>\n",
       "    .dataframe tbody tr th:only-of-type {\n",
       "        vertical-align: middle;\n",
       "    }\n",
       "\n",
       "    .dataframe tbody tr th {\n",
       "        vertical-align: top;\n",
       "    }\n",
       "\n",
       "    .dataframe thead th {\n",
       "        text-align: right;\n",
       "    }\n",
       "</style>\n",
       "<table border=\"1\" class=\"dataframe\">\n",
       "  <thead>\n",
       "    <tr style=\"text-align: right;\">\n",
       "      <th></th>\n",
       "      <th>age</th>\n",
       "      <th>bmi_(kg/m2)</th>\n",
       "      <th>diastolic_blood_pressure_(mm_hg)</th>\n",
       "      <th>fasting_plasma_glucose_(mg/dl)</th>\n",
       "      <th>fasting_plasma_insulin_(μu/ml)</th>\n",
       "      <th>gender</th>\n",
       "      <th>high_density_lipoprotein_cholesterol_(mg/dl)</th>\n",
       "      <th>sample_id</th>\n",
       "      <th>systolic_blood_pressure_(mm_hg)</th>\n",
       "      <th>tissue</th>\n",
       "      <th>total_cholesterol_(mg/dl)</th>\n",
       "      <th>triacylglycerol_(mg/dl)</th>\n",
       "      <th>waist_circumference_(cm)</th>\n",
       "    </tr>\n",
       "  </thead>\n",
       "  <tbody>\n",
       "    <tr>\n",
       "      <th>GSM1574423</th>\n",
       "      <td>48</td>\n",
       "      <td>26.7</td>\n",
       "      <td>89</td>\n",
       "      <td>107</td>\n",
       "      <td>3.9</td>\n",
       "      <td>M</td>\n",
       "      <td>50</td>\n",
       "      <td>SA00093</td>\n",
       "      <td>137</td>\n",
       "      <td>abdominal subcutaneous adipose tissue, fasted</td>\n",
       "      <td>198</td>\n",
       "      <td>72</td>\n",
       "      <td>87.8</td>\n",
       "    </tr>\n",
       "    <tr>\n",
       "      <th>GSM1574424</th>\n",
       "      <td>47</td>\n",
       "      <td>28.1</td>\n",
       "      <td>67</td>\n",
       "      <td>110</td>\n",
       "      <td>8.3</td>\n",
       "      <td>M</td>\n",
       "      <td>42.2</td>\n",
       "      <td>SA00204</td>\n",
       "      <td>124</td>\n",
       "      <td>abdominal subcutaneous adipose tissue, fasted</td>\n",
       "      <td>214</td>\n",
       "      <td>95</td>\n",
       "      <td>100.6</td>\n",
       "    </tr>\n",
       "    <tr>\n",
       "      <th>GSM1574425</th>\n",
       "      <td>68</td>\n",
       "      <td>27.3</td>\n",
       "      <td>68</td>\n",
       "      <td>105</td>\n",
       "      <td>6.6</td>\n",
       "      <td>F</td>\n",
       "      <td>62.5</td>\n",
       "      <td>SA00228</td>\n",
       "      <td>138</td>\n",
       "      <td>abdominal subcutaneous adipose tissue, fasted</td>\n",
       "      <td>165</td>\n",
       "      <td>96</td>\n",
       "      <td>87.3</td>\n",
       "    </tr>\n",
       "    <tr>\n",
       "      <th>GSM1574426</th>\n",
       "      <td>44</td>\n",
       "      <td>30.3</td>\n",
       "      <td>85</td>\n",
       "      <td>112</td>\n",
       "      <td>6.7</td>\n",
       "      <td>M</td>\n",
       "      <td>40.3</td>\n",
       "      <td>SA00236</td>\n",
       "      <td>137</td>\n",
       "      <td>abdominal subcutaneous adipose tissue, fasted</td>\n",
       "      <td>250</td>\n",
       "      <td>232</td>\n",
       "      <td>93.7</td>\n",
       "    </tr>\n",
       "    <tr>\n",
       "      <th>GSM1574427</th>\n",
       "      <td>47</td>\n",
       "      <td>29</td>\n",
       "      <td>40</td>\n",
       "      <td>95</td>\n",
       "      <td>5.9</td>\n",
       "      <td>F</td>\n",
       "      <td>42.2</td>\n",
       "      <td>SA00254</td>\n",
       "      <td>105</td>\n",
       "      <td>abdominal subcutaneous adipose tissue, fasted</td>\n",
       "      <td>187</td>\n",
       "      <td>106</td>\n",
       "      <td>98.6</td>\n",
       "    </tr>\n",
       "  </tbody>\n",
       "</table>\n",
       "</div>"
      ],
      "text/plain": [
       "            age bmi_(kg/m2) diastolic_blood_pressure_(mm_hg)  \\\n",
       "GSM1574423   48        26.7                               89   \n",
       "GSM1574424   47        28.1                               67   \n",
       "GSM1574425   68        27.3                               68   \n",
       "GSM1574426   44        30.3                               85   \n",
       "GSM1574427   47          29                               40   \n",
       "\n",
       "           fasting_plasma_glucose_(mg/dl) fasting_plasma_insulin_(μu/ml)  \\\n",
       "GSM1574423                            107                            3.9   \n",
       "GSM1574424                            110                            8.3   \n",
       "GSM1574425                            105                            6.6   \n",
       "GSM1574426                            112                            6.7   \n",
       "GSM1574427                             95                            5.9   \n",
       "\n",
       "           gender high_density_lipoprotein_cholesterol_(mg/dl) sample_id  \\\n",
       "GSM1574423      M                                           50   SA00093   \n",
       "GSM1574424      M                                         42.2   SA00204   \n",
       "GSM1574425      F                                         62.5   SA00228   \n",
       "GSM1574426      M                                         40.3   SA00236   \n",
       "GSM1574427      F                                         42.2   SA00254   \n",
       "\n",
       "           systolic_blood_pressure_(mm_hg)  \\\n",
       "GSM1574423                             137   \n",
       "GSM1574424                             124   \n",
       "GSM1574425                             138   \n",
       "GSM1574426                             137   \n",
       "GSM1574427                             105   \n",
       "\n",
       "                                                    tissue  \\\n",
       "GSM1574423   abdominal subcutaneous adipose tissue, fasted   \n",
       "GSM1574424   abdominal subcutaneous adipose tissue, fasted   \n",
       "GSM1574425   abdominal subcutaneous adipose tissue, fasted   \n",
       "GSM1574426   abdominal subcutaneous adipose tissue, fasted   \n",
       "GSM1574427   abdominal subcutaneous adipose tissue, fasted   \n",
       "\n",
       "           total_cholesterol_(mg/dl) triacylglycerol_(mg/dl)  \\\n",
       "GSM1574423                       198                      72   \n",
       "GSM1574424                       214                      95   \n",
       "GSM1574425                       165                      96   \n",
       "GSM1574426                       250                     232   \n",
       "GSM1574427                       187                     106   \n",
       "\n",
       "           waist_circumference_(cm)  \n",
       "GSM1574423                     87.8  \n",
       "GSM1574424                    100.6  \n",
       "GSM1574425                     87.3  \n",
       "GSM1574426                     93.7  \n",
       "GSM1574427                     98.6  "
      ]
     },
     "execution_count": 6,
     "metadata": {},
     "output_type": "execute_result"
    }
   ],
   "source": [
    "meta.head()"
   ]
  },
  {
   "cell_type": "markdown",
   "metadata": {},
   "source": [
    "### Inspect the metadata\n",
    "It is important to make sure that the metadata actually contains the information we are interested in. In our case, our keyword was **obesity**, so we can use the `bmi_(kg/m2)` column. Before proceeding, we take a look at the data, printing the first value:"
   ]
  },
  {
   "cell_type": "code",
   "execution_count": 7,
   "metadata": {},
   "outputs": [
    {
     "data": {
      "text/plain": [
       "' 26.7'"
      ]
     },
     "execution_count": 7,
     "metadata": {},
     "output_type": "execute_result"
    }
   ],
   "source": [
    "meta[\"bmi_(kg/m2)\"][0]"
   ]
  },
  {
   "cell_type": "markdown",
   "metadata": {},
   "source": [
    "It seems to be a string instead of a float! We can further check with the `type()` function"
   ]
  },
  {
   "cell_type": "code",
   "execution_count": 8,
   "metadata": {},
   "outputs": [
    {
     "data": {
      "text/plain": [
       "str"
      ]
     },
     "execution_count": 8,
     "metadata": {},
     "output_type": "execute_result"
    }
   ],
   "source": [
    "type(meta[\"bmi_(kg/m2)\"][0])"
   ]
  },
  {
   "cell_type": "markdown",
   "metadata": {},
   "source": [
    "So we need to cast the column to float types. We create a new column called simply `bmi`"
   ]
  },
  {
   "cell_type": "code",
   "execution_count": 9,
   "metadata": {},
   "outputs": [],
   "source": [
    "meta[\"bmi\"] = meta[\"bmi_(kg/m2)\"].astype(float)"
   ]
  },
  {
   "cell_type": "markdown",
   "metadata": {},
   "source": [
    "Now we can plot a histogram of BMI values"
   ]
  },
  {
   "cell_type": "code",
   "execution_count": 11,
   "metadata": {},
   "outputs": [
    {
     "data": {
      "image/png": "[encoded data removed]",
      "text/plain": [
       "<Figure size 432x288 with 1 Axes>"
      ]
     },
     "metadata": {
      "needs_background": "light"
     },
     "output_type": "display_data"
    }
   ],
   "source": [
    "plt.hist(meta[\"bmi\"], bins=20, density=True);\n",
    "plt.xlabel(\"BMI\");"
   ]
  },
  {
   "cell_type": "markdown",
   "metadata": {},
   "source": [
    "Since we want to compare expression of genes between groups, we create a **cathegorical variable** called `cbmi`, defined as follows:\n",
    "\n",
    "$$\n",
    "cbmi = \\left\\{\n",
    "\\begin{array}{ll}\n",
    "\\mathrm{lean} & \\text{if $bmi<30$} \\\\\n",
    "\\mathrm{obese} & \\text{if $bmi\\geq30$} \n",
    "\\end{array}\n",
    "\\right.\n",
    "$$\n",
    "\n",
    "We write a little helper function and then use the `.apply()` method "
   ]
  },
  {
   "cell_type": "code",
   "execution_count": 12,
   "metadata": {},
   "outputs": [],
   "source": [
    "def cbmi_function(x):\n",
    "    if x<33:\n",
    "        return \"lean\"\n",
    "    else:\n",
    "        return \"obese\""
   ]
  },
  {
   "cell_type": "code",
   "execution_count": 13,
   "metadata": {},
   "outputs": [],
   "source": [
    "meta[\"cbmi\"] = meta[\"bmi\"].apply(cbmi_function)"
   ]
  },
  {
   "cell_type": "markdown",
   "metadata": {},
   "source": [
    "As a check, we display the first 10 rows of the `bmi` and `cbmi` columns together"
   ]
  },
  {
   "cell_type": "code",
   "execution_count": 14,
   "metadata": {},
   "outputs": [
    {
     "data": {
      "text/html": [
       "<div>\n",
       "<style scoped>\n",
       "    .dataframe tbody tr th:only-of-type {\n",
       "        vertical-align: middle;\n",
       "    }\n",
       "\n",
       "    .dataframe tbody tr th {\n",
       "        vertical-align: top;\n",
       "    }\n",
       "\n",
       "    .dataframe thead th {\n",
       "        text-align: right;\n",
       "    }\n",
       "</style>\n",
       "<table border=\"1\" class=\"dataframe\">\n",
       "  <thead>\n",
       "    <tr style=\"text-align: right;\">\n",
       "      <th></th>\n",
       "      <th>bmi</th>\n",
       "      <th>cbmi</th>\n",
       "    </tr>\n",
       "  </thead>\n",
       "  <tbody>\n",
       "    <tr>\n",
       "      <th>GSM1574423</th>\n",
       "      <td>26.7</td>\n",
       "      <td>lean</td>\n",
       "    </tr>\n",
       "    <tr>\n",
       "      <th>GSM1574424</th>\n",
       "      <td>28.1</td>\n",
       "      <td>lean</td>\n",
       "    </tr>\n",
       "    <tr>\n",
       "      <th>GSM1574425</th>\n",
       "      <td>27.3</td>\n",
       "      <td>lean</td>\n",
       "    </tr>\n",
       "    <tr>\n",
       "      <th>GSM1574426</th>\n",
       "      <td>30.3</td>\n",
       "      <td>lean</td>\n",
       "    </tr>\n",
       "    <tr>\n",
       "      <th>GSM1574427</th>\n",
       "      <td>29.0</td>\n",
       "      <td>lean</td>\n",
       "    </tr>\n",
       "    <tr>\n",
       "      <th>GSM1574428</th>\n",
       "      <td>36.9</td>\n",
       "      <td>obese</td>\n",
       "    </tr>\n",
       "    <tr>\n",
       "      <th>GSM1574429</th>\n",
       "      <td>31.6</td>\n",
       "      <td>lean</td>\n",
       "    </tr>\n",
       "    <tr>\n",
       "      <th>GSM1574430</th>\n",
       "      <td>27.7</td>\n",
       "      <td>lean</td>\n",
       "    </tr>\n",
       "    <tr>\n",
       "      <th>GSM1574431</th>\n",
       "      <td>34.0</td>\n",
       "      <td>obese</td>\n",
       "    </tr>\n",
       "    <tr>\n",
       "      <th>GSM1574432</th>\n",
       "      <td>29.2</td>\n",
       "      <td>lean</td>\n",
       "    </tr>\n",
       "  </tbody>\n",
       "</table>\n",
       "</div>"
      ],
      "text/plain": [
       "             bmi   cbmi\n",
       "GSM1574423  26.7   lean\n",
       "GSM1574424  28.1   lean\n",
       "GSM1574425  27.3   lean\n",
       "GSM1574426  30.3   lean\n",
       "GSM1574427  29.0   lean\n",
       "GSM1574428  36.9  obese\n",
       "GSM1574429  31.6   lean\n",
       "GSM1574430  27.7   lean\n",
       "GSM1574431  34.0  obese\n",
       "GSM1574432  29.2   lean"
      ]
     },
     "execution_count": 14,
     "metadata": {},
     "output_type": "execute_result"
    }
   ],
   "source": [
    "meta[[\"bmi\", \"cbmi\"]].head(n=10)"
   ]
  },
  {
   "cell_type": "markdown",
   "metadata": {},
   "source": [
    "### Get the expression data"
   ]
  },
  {
   "cell_type": "code",
   "execution_count": 16,
   "metadata": {},
   "outputs": [
    {
     "name": "stdout",
     "output_type": "stream",
     "text": [
      "\n",
      "# WARNING: chose Entrez_Gene_ID as gene name column\n",
      "# Use gpl_gene_col keyword to choose yourself\n"
     ]
    }
   ],
   "source": [
    "tmp = GEO2pandas.get_expr_from_gse(gse)"
   ]
  },
  {
   "cell_type": "code",
   "execution_count": 18,
   "metadata": {},
   "outputs": [
    {
     "name": "stdout",
     "output_type": "stream",
     "text": [
      "# initial shape\n",
      "(64, 31545)\n",
      "\n",
      "# after deleting nan columns\n",
      "(64, 28510)\n",
      "\n",
      "# after dropping ambiguous columns\n",
      "(64, 28510)\n",
      "\n",
      "# after dropping columns with nans\n",
      "(64, 28510)\n",
      "\n",
      "# after averaging out duplicate columns\n",
      "(64, 21168)\n",
      "\n"
     ]
    }
   ],
   "source": [
    "expr = GEO2pandas.clean_and_check_expr(tmp, verbose=True)"
   ]
  },
  {
   "cell_type": "code",
   "execution_count": 19,
   "metadata": {},
   "outputs": [
    {
     "name": "stdout",
     "output_type": "stream",
     "text": [
      "(64, 21168)\n"
     ]
    },
    {
     "data": {
      "text/html": [
       "<div>\n",
       "<style scoped>\n",
       "    .dataframe tbody tr th:only-of-type {\n",
       "        vertical-align: middle;\n",
       "    }\n",
       "\n",
       "    .dataframe tbody tr th {\n",
       "        vertical-align: top;\n",
       "    }\n",
       "\n",
       "    .dataframe thead th {\n",
       "        text-align: right;\n",
       "    }\n",
       "</style>\n",
       "<table border=\"1\" class=\"dataframe\">\n",
       "  <thead>\n",
       "    <tr style=\"text-align: right;\">\n",
       "      <th></th>\n",
       "      <th>1</th>\n",
       "      <th>100</th>\n",
       "      <th>1000</th>\n",
       "      <th>10000</th>\n",
       "      <th>100008588</th>\n",
       "      <th>100008589</th>\n",
       "      <th>100009676</th>\n",
       "      <th>10001</th>\n",
       "      <th>10003</th>\n",
       "      <th>100036519</th>\n",
       "      <th>...</th>\n",
       "      <th>9984</th>\n",
       "      <th>9985</th>\n",
       "      <th>9986</th>\n",
       "      <th>9987</th>\n",
       "      <th>9988</th>\n",
       "      <th>9989</th>\n",
       "      <th>9990</th>\n",
       "      <th>9991</th>\n",
       "      <th>9993</th>\n",
       "      <th>9997</th>\n",
       "    </tr>\n",
       "    <tr>\n",
       "      <th>name</th>\n",
       "      <th></th>\n",
       "      <th></th>\n",
       "      <th></th>\n",
       "      <th></th>\n",
       "      <th></th>\n",
       "      <th></th>\n",
       "      <th></th>\n",
       "      <th></th>\n",
       "      <th></th>\n",
       "      <th></th>\n",
       "      <th></th>\n",
       "      <th></th>\n",
       "      <th></th>\n",
       "      <th></th>\n",
       "      <th></th>\n",
       "      <th></th>\n",
       "      <th></th>\n",
       "      <th></th>\n",
       "      <th></th>\n",
       "      <th></th>\n",
       "      <th></th>\n",
       "    </tr>\n",
       "  </thead>\n",
       "  <tbody>\n",
       "    <tr>\n",
       "      <th>GSM1574423</th>\n",
       "      <td>5.513040</td>\n",
       "      <td>8.105445</td>\n",
       "      <td>5.538153</td>\n",
       "      <td>5.367775</td>\n",
       "      <td>11.146230</td>\n",
       "      <td>11.589834</td>\n",
       "      <td>5.901013</td>\n",
       "      <td>8.079373</td>\n",
       "      <td>6.898689</td>\n",
       "      <td>5.097092</td>\n",
       "      <td>...</td>\n",
       "      <td>7.198096</td>\n",
       "      <td>6.152714</td>\n",
       "      <td>6.291999</td>\n",
       "      <td>7.194090</td>\n",
       "      <td>7.440856</td>\n",
       "      <td>7.791873</td>\n",
       "      <td>5.683778</td>\n",
       "      <td>8.471226</td>\n",
       "      <td>7.106159</td>\n",
       "      <td>7.440375</td>\n",
       "    </tr>\n",
       "    <tr>\n",
       "      <th>GSM1574424</th>\n",
       "      <td>5.238013</td>\n",
       "      <td>7.019328</td>\n",
       "      <td>5.188991</td>\n",
       "      <td>5.401298</td>\n",
       "      <td>11.728307</td>\n",
       "      <td>10.464450</td>\n",
       "      <td>6.265463</td>\n",
       "      <td>8.179442</td>\n",
       "      <td>6.824509</td>\n",
       "      <td>4.529985</td>\n",
       "      <td>...</td>\n",
       "      <td>7.045319</td>\n",
       "      <td>6.022443</td>\n",
       "      <td>6.045065</td>\n",
       "      <td>7.297709</td>\n",
       "      <td>7.821551</td>\n",
       "      <td>7.663453</td>\n",
       "      <td>5.675778</td>\n",
       "      <td>8.700451</td>\n",
       "      <td>6.962812</td>\n",
       "      <td>7.005557</td>\n",
       "    </tr>\n",
       "    <tr>\n",
       "      <th>GSM1574425</th>\n",
       "      <td>5.708308</td>\n",
       "      <td>7.230270</td>\n",
       "      <td>5.507846</td>\n",
       "      <td>5.397361</td>\n",
       "      <td>12.047896</td>\n",
       "      <td>11.318551</td>\n",
       "      <td>6.224461</td>\n",
       "      <td>8.074019</td>\n",
       "      <td>6.452902</td>\n",
       "      <td>4.950190</td>\n",
       "      <td>...</td>\n",
       "      <td>7.213119</td>\n",
       "      <td>6.178724</td>\n",
       "      <td>5.782922</td>\n",
       "      <td>6.998591</td>\n",
       "      <td>7.510197</td>\n",
       "      <td>7.663987</td>\n",
       "      <td>5.664503</td>\n",
       "      <td>8.643570</td>\n",
       "      <td>7.205886</td>\n",
       "      <td>7.787051</td>\n",
       "    </tr>\n",
       "    <tr>\n",
       "      <th>GSM1574426</th>\n",
       "      <td>5.740369</td>\n",
       "      <td>7.396263</td>\n",
       "      <td>5.442095</td>\n",
       "      <td>5.296547</td>\n",
       "      <td>11.650462</td>\n",
       "      <td>11.303002</td>\n",
       "      <td>6.022263</td>\n",
       "      <td>8.177189</td>\n",
       "      <td>6.413920</td>\n",
       "      <td>5.424019</td>\n",
       "      <td>...</td>\n",
       "      <td>7.098039</td>\n",
       "      <td>6.058239</td>\n",
       "      <td>5.673125</td>\n",
       "      <td>7.204400</td>\n",
       "      <td>7.893798</td>\n",
       "      <td>7.376775</td>\n",
       "      <td>5.750436</td>\n",
       "      <td>8.928652</td>\n",
       "      <td>6.890701</td>\n",
       "      <td>7.143114</td>\n",
       "    </tr>\n",
       "    <tr>\n",
       "      <th>GSM1574427</th>\n",
       "      <td>5.932976</td>\n",
       "      <td>7.238479</td>\n",
       "      <td>6.143618</td>\n",
       "      <td>5.671180</td>\n",
       "      <td>11.718869</td>\n",
       "      <td>10.859258</td>\n",
       "      <td>6.023132</td>\n",
       "      <td>8.228727</td>\n",
       "      <td>6.420861</td>\n",
       "      <td>5.654227</td>\n",
       "      <td>...</td>\n",
       "      <td>6.648952</td>\n",
       "      <td>6.114541</td>\n",
       "      <td>5.814955</td>\n",
       "      <td>7.399123</td>\n",
       "      <td>7.605499</td>\n",
       "      <td>7.356980</td>\n",
       "      <td>5.543969</td>\n",
       "      <td>8.511676</td>\n",
       "      <td>6.663802</td>\n",
       "      <td>7.748388</td>\n",
       "    </tr>\n",
       "  </tbody>\n",
       "</table>\n",
       "<p>5 rows × 21168 columns</p>\n",
       "</div>"
      ],
      "text/plain": [
       "                   1       100      1000     10000  100008588  100008589  \\\n",
       "name                                                                       \n",
       "GSM1574423  5.513040  8.105445  5.538153  5.367775  11.146230  11.589834   \n",
       "GSM1574424  5.238013  7.019328  5.188991  5.401298  11.728307  10.464450   \n",
       "GSM1574425  5.708308  7.230270  5.507846  5.397361  12.047896  11.318551   \n",
       "GSM1574426  5.740369  7.396263  5.442095  5.296547  11.650462  11.303002   \n",
       "GSM1574427  5.932976  7.238479  6.143618  5.671180  11.718869  10.859258   \n",
       "\n",
       "            100009676     10001     10003  100036519  ...      9984      9985  \\\n",
       "name                                                  ...                       \n",
       "GSM1574423   5.901013  8.079373  6.898689   5.097092  ...  7.198096  6.152714   \n",
       "GSM1574424   6.265463  8.179442  6.824509   4.529985  ...  7.045319  6.022443   \n",
       "GSM1574425   6.224461  8.074019  6.452902   4.950190  ...  7.213119  6.178724   \n",
       "GSM1574426   6.022263  8.177189  6.413920   5.424019  ...  7.098039  6.058239   \n",
       "GSM1574427   6.023132  8.228727  6.420861   5.654227  ...  6.648952  6.114541   \n",
       "\n",
       "                9986      9987      9988      9989      9990      9991  \\\n",
       "name                                                                     \n",
       "GSM1574423  6.291999  7.194090  7.440856  7.791873  5.683778  8.471226   \n",
       "GSM1574424  6.045065  7.297709  7.821551  7.663453  5.675778  8.700451   \n",
       "GSM1574425  5.782922  6.998591  7.510197  7.663987  5.664503  8.643570   \n",
       "GSM1574426  5.673125  7.204400  7.893798  7.376775  5.750436  8.928652   \n",
       "GSM1574427  5.814955  7.399123  7.605499  7.356980  5.543969  8.511676   \n",
       "\n",
       "                9993      9997  \n",
       "name                            \n",
       "GSM1574423  7.106159  7.440375  \n",
       "GSM1574424  6.962812  7.005557  \n",
       "GSM1574425  7.205886  7.787051  \n",
       "GSM1574426  6.890701  7.143114  \n",
       "GSM1574427  6.663802  7.748388  \n",
       "\n",
       "[5 rows x 21168 columns]"
      ]
     },
     "execution_count": 19,
     "metadata": {},
     "output_type": "execute_result"
    }
   ],
   "source": [
    "print(expr.shape)\n",
    "expr.head()"
   ]
  },
  {
   "cell_type": "markdown",
   "metadata": {},
   "source": [
    "We have a dataframe `expr` with 64 rows corresponding to samples and >21K columns corresponding to genes. The values are the log2 expression of each gene in each sample."
   ]
  },
  {
   "cell_type": "markdown",
   "metadata": {},
   "source": [
    "We make sure that the labels in the rows of `expr` coincide with those of `meta`. We will use the `assert` statement, which gives an error when the condition after it is not verified, but otherwise stays silent. "
   ]
  },
  {
   "cell_type": "code",
   "execution_count": 20,
   "metadata": {},
   "outputs": [],
   "source": [
    "for x in meta.index:\n",
    "    assert x in expr.index\n",
    "    \n",
    "for x in expr.index:\n",
    "    assert x in meta.index"
   ]
  },
  {
   "cell_type": "markdown",
   "metadata": {},
   "source": [
    "### Differential expression\n",
    "\n",
    "Differential expression is usually measures in `fold change` units. For instance, a 2-fold change between the expression of groups A and B means the average expression of group A was **twice** that of group B. This is because expression values don't have a fixed scale: some genes can be expressed 10 or 100 times more than others! This is why expression values are usually expressed in **logarithmic** scale. Therefore, to compute the fold-change between our lean and obese samples, we only need to take the **difference** of their averages."
   ]
  },
  {
   "cell_type": "markdown",
   "metadata": {},
   "source": [
    "We well use the `.groupby()` method of the expression dataframe, and then take the `.mean()`"
   ]
  },
  {
   "cell_type": "code",
   "execution_count": 21,
   "metadata": {},
   "outputs": [
    {
     "data": {
      "text/html": [
       "<div>\n",
       "<style scoped>\n",
       "    .dataframe tbody tr th:only-of-type {\n",
       "        vertical-align: middle;\n",
       "    }\n",
       "\n",
       "    .dataframe tbody tr th {\n",
       "        vertical-align: top;\n",
       "    }\n",
       "\n",
       "    .dataframe thead th {\n",
       "        text-align: right;\n",
       "    }\n",
       "</style>\n",
       "<table border=\"1\" class=\"dataframe\">\n",
       "  <thead>\n",
       "    <tr style=\"text-align: right;\">\n",
       "      <th></th>\n",
       "      <th>1</th>\n",
       "      <th>100</th>\n",
       "      <th>1000</th>\n",
       "      <th>10000</th>\n",
       "      <th>100008588</th>\n",
       "      <th>100008589</th>\n",
       "      <th>100009676</th>\n",
       "      <th>10001</th>\n",
       "      <th>10003</th>\n",
       "      <th>100036519</th>\n",
       "      <th>...</th>\n",
       "      <th>9984</th>\n",
       "      <th>9985</th>\n",
       "      <th>9986</th>\n",
       "      <th>9987</th>\n",
       "      <th>9988</th>\n",
       "      <th>9989</th>\n",
       "      <th>9990</th>\n",
       "      <th>9991</th>\n",
       "      <th>9993</th>\n",
       "      <th>9997</th>\n",
       "    </tr>\n",
       "    <tr>\n",
       "      <th>cbmi</th>\n",
       "      <th></th>\n",
       "      <th></th>\n",
       "      <th></th>\n",
       "      <th></th>\n",
       "      <th></th>\n",
       "      <th></th>\n",
       "      <th></th>\n",
       "      <th></th>\n",
       "      <th></th>\n",
       "      <th></th>\n",
       "      <th></th>\n",
       "      <th></th>\n",
       "      <th></th>\n",
       "      <th></th>\n",
       "      <th></th>\n",
       "      <th></th>\n",
       "      <th></th>\n",
       "      <th></th>\n",
       "      <th></th>\n",
       "      <th></th>\n",
       "      <th></th>\n",
       "    </tr>\n",
       "  </thead>\n",
       "  <tbody>\n",
       "    <tr>\n",
       "      <th>lean</th>\n",
       "      <td>5.748449</td>\n",
       "      <td>7.463354</td>\n",
       "      <td>5.567524</td>\n",
       "      <td>5.449111</td>\n",
       "      <td>11.570883</td>\n",
       "      <td>10.530192</td>\n",
       "      <td>6.150326</td>\n",
       "      <td>8.236377</td>\n",
       "      <td>6.953990</td>\n",
       "      <td>5.306161</td>\n",
       "      <td>...</td>\n",
       "      <td>7.046977</td>\n",
       "      <td>6.250379</td>\n",
       "      <td>5.956653</td>\n",
       "      <td>7.197635</td>\n",
       "      <td>7.362008</td>\n",
       "      <td>7.555648</td>\n",
       "      <td>5.630989</td>\n",
       "      <td>8.540849</td>\n",
       "      <td>7.064009</td>\n",
       "      <td>7.806135</td>\n",
       "    </tr>\n",
       "    <tr>\n",
       "      <th>obese</th>\n",
       "      <td>5.754524</td>\n",
       "      <td>7.514391</td>\n",
       "      <td>5.506515</td>\n",
       "      <td>5.462745</td>\n",
       "      <td>11.663196</td>\n",
       "      <td>10.281260</td>\n",
       "      <td>6.206183</td>\n",
       "      <td>8.273758</td>\n",
       "      <td>6.675706</td>\n",
       "      <td>5.390516</td>\n",
       "      <td>...</td>\n",
       "      <td>7.077331</td>\n",
       "      <td>6.334046</td>\n",
       "      <td>5.974315</td>\n",
       "      <td>7.028965</td>\n",
       "      <td>7.248244</td>\n",
       "      <td>7.606766</td>\n",
       "      <td>5.615568</td>\n",
       "      <td>8.599620</td>\n",
       "      <td>7.125402</td>\n",
       "      <td>7.999800</td>\n",
       "    </tr>\n",
       "  </tbody>\n",
       "</table>\n",
       "<p>2 rows × 21168 columns</p>\n",
       "</div>"
      ],
      "text/plain": [
       "              1       100      1000     10000  100008588  100008589  \\\n",
       "cbmi                                                                  \n",
       "lean   5.748449  7.463354  5.567524  5.449111  11.570883  10.530192   \n",
       "obese  5.754524  7.514391  5.506515  5.462745  11.663196  10.281260   \n",
       "\n",
       "       100009676     10001     10003  100036519  ...      9984      9985  \\\n",
       "cbmi                                             ...                       \n",
       "lean    6.150326  8.236377  6.953990   5.306161  ...  7.046977  6.250379   \n",
       "obese   6.206183  8.273758  6.675706   5.390516  ...  7.077331  6.334046   \n",
       "\n",
       "           9986      9987      9988      9989      9990      9991      9993  \\\n",
       "cbmi                                                                          \n",
       "lean   5.956653  7.197635  7.362008  7.555648  5.630989  8.540849  7.064009   \n",
       "obese  5.974315  7.028965  7.248244  7.606766  5.615568  8.599620  7.125402   \n",
       "\n",
       "           9997  \n",
       "cbmi             \n",
       "lean   7.806135  \n",
       "obese  7.999800  \n",
       "\n",
       "[2 rows x 21168 columns]"
      ]
     },
     "execution_count": 21,
     "metadata": {},
     "output_type": "execute_result"
    }
   ],
   "source": [
    "gexpr = expr.groupby(meta.cbmi).mean()\n",
    "gexpr"
   ]
  },
  {
   "cell_type": "markdown",
   "metadata": {},
   "source": [
    "Notice we grouped the rows of `expr` by the value they have in the `cmi` column of `meta`. This is possible because the two dataframes share row labels! Now we want to take the difference `obese-lean`, so we need to select rows. We will use the `.loc[]` indexer\n",
    "\n"
   ]
  },
  {
   "cell_type": "code",
   "execution_count": 22,
   "metadata": {},
   "outputs": [],
   "source": [
    "foldchange = gexpr.loc[\"obese\"] - gexpr.loc[\"lean\"]"
   ]
  },
  {
   "cell_type": "code",
   "execution_count": 24,
   "metadata": {},
   "outputs": [
    {
     "data": {
      "image/png": "[encoded data removed]",
      "text/plain": [
       "<Figure size 432x288 with 1 Axes>"
      ]
     },
     "metadata": {
      "needs_background": "light"
     },
     "output_type": "display_data"
    }
   ],
   "source": [
    "plt.hist(foldchange, bins=100, density=True);"
   ]
  },
  {
   "cell_type": "markdown",
   "metadata": {},
   "source": [
    "Plotting a histogram of fold-change values, we see that most genes are **not** differentially expressed. Usually, fold-change values of at least 2 in absolute value are required to consider that a gene is differentially expressed. Also typically, a combination of fold-change and p-value requirements is considered. Today we will just ignore those practices and select the top 50 DE genes."
   ]
  },
  {
   "cell_type": "markdown",
   "metadata": {},
   "source": [
    "Since we care about both **over** and **under** expressed genes, we must take the absolute value before sorting. Also, we use the `.index[]` method to get the labels."
   ]
  },
  {
   "cell_type": "code",
   "execution_count": 25,
   "metadata": {},
   "outputs": [],
   "source": [
    "topDE = foldchange.abs().sort_values(ascending=False).index[:50]"
   ]
  },
  {
   "cell_type": "markdown",
   "metadata": {},
   "source": [
    "Here we just resort the elements of `topDE` by foldchange value (without taking the absolute value)"
   ]
  },
  {
   "cell_type": "code",
   "execution_count": 26,
   "metadata": {},
   "outputs": [],
   "source": [
    "topDE = foldchange.loc[topDE].sort_values().index"
   ]
  },
  {
   "cell_type": "markdown",
   "metadata": {},
   "source": [
    "We now plot a heatmap of the expression of these genes"
   ]
  },
  {
   "cell_type": "code",
   "execution_count": 27,
   "metadata": {},
   "outputs": [
    {
     "data": {
      "text/plain": [
       "<AxesSubplot:ylabel='name'>"
      ]
     },
     "execution_count": 27,
     "metadata": {},
     "output_type": "execute_result"
    },
    {
     "data": {
      "image/png": "[encoded data removed]",
      "text/plain": [
       "<Figure size 1080x360 with 2 Axes>"
      ]
     },
     "metadata": {
      "needs_background": "light"
     },
     "output_type": "display_data"
    }
   ],
   "source": [
    "plt.figure(figsize=(15,5))\n",
    "sns.heatmap(expr[topDE])"
   ]
  },
  {
   "cell_type": "markdown",
   "metadata": {},
   "source": [
    "We do not see anything special here! What is going on? We are plotting raw log-expression values of all samples for the `topDE` genes. As each gene has a different scale, we don't see differences between samples. Also, we don't know if the samples are sorted or not. So let us introduces these changes:\n",
    "\n",
    "+ Set the mean of all genes to 0\n",
    "+ Sort the samples by BMI\n",
    "+ use a divergent colormap"
   ]
  },
  {
   "cell_type": "code",
   "execution_count": 28,
   "metadata": {},
   "outputs": [
    {
     "data": {
      "text/plain": [
       "<AxesSubplot:>"
      ]
     },
     "execution_count": 28,
     "metadata": {},
     "output_type": "execute_result"
    },
    {
     "data": {
      "image/png": "[encoded data removed]",
      "text/plain": [
       "<Figure size 1080x360 with 2 Axes>"
      ]
     },
     "metadata": {
      "needs_background": "light"
     },
     "output_type": "display_data"
    }
   ],
   "source": [
    "sorted_samples = meta.bmi.sort_values().index\n",
    "plt.figure(figsize=(15,5))\n",
    "sns.heatmap((expr-expr.mean()).loc[ sorted_samples, topDE ],\n",
    "            robust=True,\n",
    "            cmap=\"coolwarm\")"
   ]
  },
  {
   "cell_type": "code",
   "execution_count": null,
   "metadata": {},
   "outputs": [],
   "source": []
  }
 ],
 "metadata": {
  "kernelspec": {
   "display_name": "Python 3",
   "language": "python",
   "name": "python3"
  },
  "language_info": {
   "codemirror_mode": {
    "name": "ipython",
    "version": 3
   },
   "file_extension": ".py",
   "mimetype": "text/x-python",
   "name": "python",
   "nbconvert_exporter": "python",
   "pygments_lexer": "ipython3",
   "version": "3.8.8"
  }
 },
 "nbformat": 4,
 "nbformat_minor": 4
}
