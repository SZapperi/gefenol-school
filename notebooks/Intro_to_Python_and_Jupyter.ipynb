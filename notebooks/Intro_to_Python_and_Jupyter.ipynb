{
 "cells": [
  {
   "cell_type": "markdown",
   "metadata": {},
   "source": [
    "## Jupyter notebooks\n",
    "What you are reading is part of a `Jupyter notebook`. Notebooks are composed of cells,\n",
    "which can be of different kinds:\n",
    "+ `code cells` : which contain (python) code. \n",
    "+ `markdown cells` : which contain **rich** text in `markdown`\n",
    "\n",
    "To **execute** the active cell (marked with a blue vertical line at the left frame), press `[Shift]+[Return]`.  \n",
    "To **edit** a cell, press `[Return]`. Try editing this cell!  \n",
    "\n",
    "A very nice feature of jupyter notebooks is that you can plot the results of your computations *inline*, so that they become part of the notebook. Lets see an example:"
   ]
  },
  {
   "cell_type": "code",
   "execution_count": 1,
   "metadata": {},
   "outputs": [
    {
     "data": {
      "text/plain": [
       "[<matplotlib.lines.Line2D at 0x7f9812808cd0>]"
      ]
     },
     "execution_count": 1,
     "metadata": {},
     "output_type": "execute_result"
    },
    {
     "data": {
      "image/png": "[encoded data removed]",
      "text/plain": [
       "<Figure size 432x288 with 1 Axes>"
      ]
     },
     "metadata": {
      "needs_background": "light"
     },
     "output_type": "display_data"
    }
   ],
   "source": [
    "# import necessary packages\n",
    "import numpy as np\n",
    "import matplotlib.pyplot as plt\n",
    "%matplotlib inline\n",
    "\n",
    "# a simple random walk in 3 lines of python! \n",
    "N = 1000                              # \n",
    "w = np.random.choice([-1, 1], size=N) # choose N random elements (with replacement) from the set [-1, 1]\n",
    "x = np.cumsum(w)                      # compute the partial sums \n",
    "plt.plot(x)                           # a simple line plot"
   ]
  },
  {
   "cell_type": "markdown",
   "metadata": {},
   "source": [
    "In the example above, we simulated a simple discrete random walk, defined as $ x_j = \\sum_{i=1}^j w_i, $ where $w_i$ are taken to be random $\\pm 1$. We used two python packages (`numpy` and `matplotlib`)"
   ]
  },
  {
   "cell_type": "markdown",
   "metadata": {},
   "source": [
    "### Python packages\n",
    "Python is a very flexible language that builds uppon packages. Anyone can make and distribute their packages. Some have become so large and commonly used that considered standard tools. We will be using some of these:\n",
    "\n",
    "Baiscs:\n",
    "+ `numpy`: N-dimensional arrays, linear algebra, Fourier transforms, random numbers\n",
    "+ `scipy`: (scientific python) implementation of common algorithms, well-tested.\n",
    "+ `pandas`: easy-to-use data structures and data analysis tools\n",
    "\n",
    "Plotting:\n",
    "+ `matplotlib` \n",
    "+ `seaborn`\n",
    "\n",
    "Machine learning:\n",
    "+ `sklearn` : (scikit-learn) machine learning, data mining and data analysis"
   ]
  },
  {
   "cell_type": "markdown",
   "metadata": {},
   "source": [
    "### Installing missing packages\n",
    "Most packages don't come with the \"default\" python on your computer, so at home you might need to install them via `pip` or `conda`. For instance, to install `numpy`, simply type in a terminal shell:\n",
    "\n",
    "```\n",
    "user@host:~$ pip install numpy\n",
    "```\n",
    "\n",
    "If you start using python often, you might need to install many packages. In this case you might consider using Anaconda, which gives you the latest python + 100's of the most used packages, in a single download. "
   ]
  },
  {
   "cell_type": "code",
   "execution_count": null,
   "metadata": {},
   "outputs": [],
   "source": []
  }
 ],
 "metadata": {
  "kernelspec": {
   "display_name": "Python 3",
   "language": "python",
   "name": "python3"
  },
  "language_info": {
   "codemirror_mode": {
    "name": "ipython",
    "version": 3
   },
   "file_extension": ".py",
   "mimetype": "text/x-python",
   "name": "python",
   "nbconvert_exporter": "python",
   "pygments_lexer": "ipython3",
   "version": "3.8.8"
  }
 },
 "nbformat": 4,
 "nbformat_minor": 4
}
